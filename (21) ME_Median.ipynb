{
 "cells": [
  {
   "cell_type": "markdown",
   "id": "57f8e248",
   "metadata": {},
   "source": [
    "# (21) Multi-Equation Median Forecast Combination (ME_Median)"
   ]
  },
  {
   "cell_type": "markdown",
   "id": "0bcfc13d",
   "metadata": {},
   "source": [
    "A Multi-Equation Median Forecast Combination (ME_Median) takes the best predicted values from each of the previous multi-equation (multivariate) algorithms and returns the median predicted value at each time period. Forecast combining leverages the variability among predicted values in order to produce a more accurate prediction.\n",
    "\n",
    "In the first block of code I define two functions. The Target_Feature_Split function takes in five arguments including the training set predicted values (train_data), the test set predicted values (test_vaues), the name of the target series to be forecasted (target_name), the names of the single equation forecasting algorithms (single_equation_names), and the names of the multi-equation forecasting algorithms (multi_equation_names). The Target_Feature_Split function returns six attributes including the observed series to be forecasted over the training sample (target_train), the observed series to be forecasted over the test sample (target_test), the single equation predicted values over the training (single_equation_train) and test (single_equation_test) samples, and the multi-equation predicted values over the training (multiple_equation_train) and test (multiple_equation_test) samples.\n",
    "\n",
    "The Forecast_Combination function takes in four arguments; the observed series to be forecasted over the training sample (target_train), the observed series to be forecasted over the test sample (target_test), the forecasted values to be combined on the training set (forecasted_train), and the forecasted values to be combined on the test set (forecasted_test). The Forecast_Combination function returns the combination predictions over the training (forecast_combination_train) and testing (forecast_combination_test) sets, the training root mean squared error value (train_RMSE), and the test set root mean squared error value (test_RMSE)."
   ]
  },
  {
   "cell_type": "code",
   "execution_count": null,
   "id": "e49c3b8b",
   "metadata": {},
   "outputs": [],
   "source": [
    "# Load Library:\n",
    "from pandas import read_csv\n",
    "import pandas as pd\n",
    "import numpy as np\n",
    "from sklearn.metrics import mean_squared_error\n",
    "from matplotlib import pyplot\n",
    "import seaborn as sns\n",
    "import warnings\n",
    "warnings.filterwarnings('ignore')\n",
    "# Function to Split Observed Values from S.E. & M.E. Forecasted Values:\n",
    "def Target_Feature_Split(train_data, test_data, target_name, single_equation_names, multiple_equation_names):\n",
    "    # Drop Observation with Missing Values: Balances the DataFrames\n",
    "    train_data = train_data.dropna()\n",
    "    test_data = test_data.dropna()\n",
    "    # Return Target Series:\n",
    "    target_train = train_data[[target_name]]\n",
    "    target_test = test_data[[target_name]]\n",
    "    # Return Single Equation Forecasts:\n",
    "    single_equation_train = train_data[single_equation_names]\n",
    "    single_equation_test = test_data[single_equation_names]\n",
    "    # Return Multiple Equation Forecasts:\n",
    "    multiple_equation_train = train_data[multiple_equation_names]\n",
    "    multiple_equation_test = test_data[multiple_equation_names]\n",
    "    return target_train, target_test, single_equation_train, single_equation_test, multiple_equation_train, multiple_equation_test \n",
    "# Function to Derive Forecast Combination:\n",
    "def Forecast_Combination(target_train, target_test, forecasted_train, forecasted_test):\n",
    "    # Compute Forecast Combination: \n",
    "    forecast_combination_train = forecasted_train.median(axis = 1)\n",
    "    forecast_combination_test = forecasted_test.median(axis = 1)\n",
    "    # Evaluate Model:\n",
    "    train_RMSE = np.sqrt(mean_squared_error(target_train.values, forecast_combination_train.values))\n",
    "    test_RMSE = np.sqrt(mean_squared_error(target_test.values, forecast_combination_test.values))\n",
    "    return forecast_combination_train, forecast_combination_test, train_RMSE, test_RMSE\n",
    "# Set Seed:\n",
    "np.random.seed(12345)\n",
    "# Load in Data:\n",
    "train_data = read_csv('National_Train_Growth_One.csv', header = 0, index_col = 0, parse_dates = True)\n",
    "train_data.index = pd.DatetimeIndex(train_data.index.values, freq = \"MS\")\n",
    "test_data = read_csv('National_Test_Growth_One.csv', header = 0, index_col = 0, parse_dates = True)                \n",
    "test_data.index = pd.DatetimeIndex(test_data.index.values, freq = \"MS\")\n",
    "target_data = read_csv('Housing_Prices.csv', header = 0, index_col = 0, parse_dates = True)\n",
    "target_data.index = pd.DatetimeIndex(target_data.index.values, freq = \"MS\")\n",
    "# Setting Names:\n",
    "target_name = 'RHP'\n",
    "single_equation_names = ['RW','RW_Drift','AR','ARMA','AR_Ridge','AR_Lasso','AR_Elastic_Net']\n",
    "multiple_equation_names = ['VAR','FAVAR','BFAVAR','VAR_Ridge','VAR_Lasso','VAR_Elastic_Net','FAVAR_Ridge','FAVAR_Lasso','FAVAR_Elastic_Net','BFAVAR_Ridge','BFAVAR_Lasso','BFAVAR_Elastic_Net']\n",
    "# Function to Split Data:\n",
    "target_train, target_test, single_equation_train, single_equation_test, multiple_equation_train, multiple_equation_test = Target_Feature_Split(train_data, test_data, target_name, single_equation_names, multiple_equation_names)\n",
    "# Evaluating Model: \n",
    "forecast_combination_train, forecast_combination_test, train_RMSE, test_RMSE = Forecast_Combination(target_train, target_test, multiple_equation_train, multiple_equation_test) \n",
    "# Setting Target Series:\n",
    "target_series = target_data[[target_name]]"
   ]
  },
  {
   "cell_type": "markdown",
   "id": "37962db6",
   "metadata": {},
   "source": [
    "The second block of code presents and graphs the results from the Forecast_Combination function."
   ]
  },
  {
   "cell_type": "code",
   "execution_count": null,
   "id": "2fb5ca14",
   "metadata": {},
   "outputs": [],
   "source": [
    "# Evaluate Model: Growth Rates\n",
    "print('-----------------------------')\n",
    "print('National Housing Price Series')\n",
    "print('-----------------------------')\n",
    "print('Data Type: Growth Rates')\n",
    "print('Model Type: Multiple Equation Median Forecast Combination')\n",
    "print('Train RMSE: %.3f' % (train_RMSE))\n",
    "print('Test RMSE: %.3f' % (test_RMSE))\n",
    "# Plot Forecast: Growth Rates\n",
    "sns.set_theme(style = 'whitegrid')\n",
    "pyplot.figure(figsize = (12,6))\n",
    "pyplot.plot(target_series, label = 'Observed')\n",
    "pyplot.plot(forecast_combination_train, label = 'ME_Median: Train')\n",
    "pyplot.plot(forecast_combination_test, label = 'ME_Median: Test')\n",
    "pyplot.xlabel('Date')\n",
    "pyplot.ylabel('Growth Rate')\n",
    "pyplot.title('Real Housing Price Series (National)')\n",
    "pyplot.legend()\n",
    "pyplot.show()"
   ]
  },
  {
   "cell_type": "markdown",
   "id": "38e0a45a",
   "metadata": {},
   "source": [
    "The third block of code is used to analyze the forecast errors for stationarity. The forecast errors are computed, plotted, and distributed. Lastly, the autocorrelation function (ACF) is plotted and the Augmented Dickey-Fuller (ADF) unit root test is carried out."
   ]
  },
  {
   "cell_type": "code",
   "execution_count": null,
   "id": "6dc45f32",
   "metadata": {},
   "outputs": [],
   "source": [
    "# Load Library:\n",
    "import pandas as pd\n",
    "from statsmodels.tsa.stattools import adfuller\n",
    "from statsmodels.graphics.tsaplots import plot_acf\n",
    "# Compute Model Residuals:\n",
    "Error = pd.concat([target_train,forecast_combination_train], axis = 1)\n",
    "Error = Error.dropna()\n",
    "Error['Resids'] = Error.iloc[:,0] - Error.iloc[:,1]\n",
    "# Plot Residuals:\n",
    "sns.set_theme(style = 'whitegrid')\n",
    "pyplot.figure(figsize = (16,4))\n",
    "pyplot.subplot(1,2,1)\n",
    "pyplot.plot(Error['Resids'])\n",
    "pyplot.xlabel('Date')\n",
    "pyplot.title('Residual Series')\n",
    "pyplot.subplot(1,2,2)\n",
    "pyplot.hist(Error['Resids'], bins = 20)\n",
    "pyplot.title('Residual Distribution')\n",
    "pyplot.tight_layout()\n",
    "pyplot.show()\n",
    "# Plot Autocorelation Function (ACF):\n",
    "sns.set_theme(style = 'whitegrid')\n",
    "fig, ax = pyplot.subplots(figsize=(8,4))\n",
    "plot_acf(Error['Resids'], title = 'Residual ACF', lags = 36, ax = ax)\n",
    "pyplot.show()\n",
    "# ADF Test: Non-Stationary v. Stationary\n",
    "ADF_Test = adfuller(Error['Resids'])\n",
    "print('----------------------')\n",
    "print('  ADF Unit-Root Test  ')\n",
    "print('----------------------')\n",
    "print('Test Statistic: %.3f' % (ADF_Test[0]))\n",
    "print('P-Value: %.3f' % (ADF_Test[1]))\n",
    "print('Critical Values:')\n",
    "for key, value in ADF_Test[4].items():\n",
    "    print('%s: %.3f' % (key, value))"
   ]
  },
  {
   "cell_type": "markdown",
   "id": "dc8466f9",
   "metadata": {},
   "source": [
    "The last block of code loads in the previous .csv files \"National_Train_Growth_One\" and \"National_Test_Growth_One\" that contain the stored forecasted values. The storage files are then augmented to include the predicted values from the current algorithm in order to produce the final \"top performing\" model plots and carry out the final comparison tests for predictive accuracy."
   ]
  },
  {
   "cell_type": "code",
   "execution_count": null,
   "id": "c2df21ad",
   "metadata": {},
   "outputs": [],
   "source": [
    "# Add New Forecast Model to Forecast DataFrames:\n",
    "train_data['ME_Median'] = forecast_combination_train\n",
    "test_data['ME_Median'] = forecast_combination_test\n",
    "# Save Forecast DataFrames with New Model:\n",
    "pd.DataFrame(train_data).to_csv('National_Train_Growth_One.csv')\n",
    "pd.DataFrame(test_data).to_csv('National_Test_Growth_One.csv')"
   ]
  }
 ],
 "metadata": {
  "kernelspec": {
   "display_name": "Python 3 (ipykernel)",
   "language": "python",
   "name": "python3"
  },
  "language_info": {
   "codemirror_mode": {
    "name": "ipython",
    "version": 3
   },
   "file_extension": ".py",
   "mimetype": "text/x-python",
   "name": "python",
   "nbconvert_exporter": "python",
   "pygments_lexer": "ipython3",
   "version": "3.8.13"
  }
 },
 "nbformat": 4,
 "nbformat_minor": 5
}
