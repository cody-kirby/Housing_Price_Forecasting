{
 "cells": [
  {
   "cell_type": "markdown",
   "id": "7822716a",
   "metadata": {},
   "source": [
    "# Top-Five Forecasting Algorithm Plots"
   ]
  },
  {
   "cell_type": "markdown",
   "id": "4428db2a",
   "metadata": {},
   "source": [
    "The Best_Models function takes in three arguments. First, Data_Path is a .csv file path that contains the predicted values from all forecasting algorithms. Second, RMSE_Path is a .csv file path that contains the ranked RMSE values for each forecasting algorithm. Lastly, series_name represents the target variable to be forecasted. The output of the Best_Models function produces a graph of the top-five forecasting algorithms alongside the observered series for comparison. The graph is saved as a .png file in the current working directory.     "
   ]
  },
  {
   "cell_type": "code",
   "execution_count": null,
   "id": "b4321488",
   "metadata": {},
   "outputs": [],
   "source": [
    "# Load Library:\n",
    "from pandas import read_csv\n",
    "import pandas as pd\n",
    "import numpy as np\n",
    "from sklearn.metrics import mean_squared_error\n",
    "from matplotlib import pyplot\n",
    "import seaborn as sns\n",
    "import warnings\n",
    "warnings.filterwarnings('ignore')\n",
    "# Function to Plot the Top Five Performing Forecast Algorithms:\n",
    "def Best_Models(Data_Path, RMSE_Path, series_name):\n",
    "    # Load Prediction DataFrame: Contains Predicted Values\n",
    "    Data = read_csv(Data_Path, header = 0, index_col = 0, parse_dates = True)\n",
    "    Data.index = pd.DatetimeIndex(Data.index.values, freq = \"MS\")\n",
    "    # Balance Prediction DataFrames:\n",
    "    Data = Data.dropna()\n",
    "    # Load Model Evaluation DataFrame: Contains RMSE Values\n",
    "    RMSE = read_csv(RMSE_Path, header = 0, usecols = ['Model_Name', 'RMSE'])\n",
    "    print('-'*len(RMSE_Path))\n",
    "    print(RMSE_Path)\n",
    "    print('-'*len(RMSE_Path))\n",
    "    print(round(RMSE,3))\n",
    "    # Store Model Names: Ordered from Best Performing to Worst Performing\n",
    "    Model_Names = RMSE['Model_Name']\n",
    "    colors = sns.color_palette('rocket',8)\n",
    "    # Plot Top-Five Forecast Algorithms:\n",
    "    sns.set_theme(style = 'whitegrid')\n",
    "    pyplot.figure(figsize = (12,6))\n",
    "    pyplot.plot(Data[series_name], label = 'Observed', linewidth = 2.0, color = colors[0])\n",
    "    pyplot.plot(Data[Model_Names[0]], label = Model_Names[0], linewidth = 2.0, color = colors[1])\n",
    "    pyplot.plot(Data[Model_Names[1]], label = Model_Names[1], linewidth = 1.0, color = colors[2])\n",
    "    pyplot.plot(Data[Model_Names[2]], label = Model_Names[2], linewidth = 1.0, color = colors[3])\n",
    "    pyplot.plot(Data[Model_Names[3]], label = Model_Names[3], linewidth = 1.0, color = colors[4])\n",
    "    pyplot.plot(Data[Model_Names[4]], label = Model_Names[4], linewidth = 1.0, color = colors[5])\n",
    "    pyplot.title('Top-Five Performing Forecasting Algorithms')\n",
    "    pyplot.ylabel('Growth Rates')\n",
    "    pyplot.legend(ncol = 6, loc = 'upper center', bbox_to_anchor = (0.5, -0.08), frameon = False)\n",
    "    pyplot.savefig('Fig1_'+RMSE_Path.split('_')[0]+'_'+RMSE_Path.split('_')[3]+'.png', bbox_inches='tight')\n",
    "    pyplot.show()\n",
    "# Specify Test Prediction DataFrame Paths:\n",
    "Test_Predicitions = ['National_Test_Growth_One.csv']\n",
    "# Specify Test RMSE DataFrame Paths:\n",
    "Test_RMSE = ['National_Test_Growth_One_RMSE.csv']\n",
    "# Specify Target Series:\n",
    "series_name = 'RHP'\n",
    "# Create Graphs:\n",
    "for i in range(len(Test_Predicitions)):\n",
    "    Best_Models(Test_Predicitions[i], Test_RMSE[i], series_name)"
   ]
  }
 ],
 "metadata": {
  "kernelspec": {
   "display_name": "Python 3 (ipykernel)",
   "language": "python",
   "name": "python3"
  },
  "language_info": {
   "codemirror_mode": {
    "name": "ipython",
    "version": 3
   },
   "file_extension": ".py",
   "mimetype": "text/x-python",
   "name": "python",
   "nbconvert_exporter": "python",
   "pygments_lexer": "ipython3",
   "version": "3.8.13"
  }
 },
 "nbformat": 4,
 "nbformat_minor": 5
}
