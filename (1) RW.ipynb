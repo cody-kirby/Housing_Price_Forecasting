{
 "cells": [
  {
   "cell_type": "markdown",
   "id": "e2136111",
   "metadata": {},
   "source": [
    "# (1) Random Walk (RW) Model"
   ]
  },
  {
   "cell_type": "markdown",
   "id": "c7224c8a",
   "metadata": {},
   "source": [
    "A Random Walk (RW) model is identical to an AR(0) with first differenced data. Let $Y_{t}$ represent a level series and $\\Delta Y_{t}$ represent the growth rate transformation of that series. An AR(0) on growth rate data can be rewritten in level form using $Y_{t} = Y_{t-1} + e_{t}$. Therefore, the AR(0) model on growth rate data is a RW model on levels data. A RW model on growth rate data produces forecasts consistent with “zero change.”       \n",
    "\n",
    "The following code reestimates the RW model each period using walk foreword cross-validation over the validation set. Model validation is carried out using an 80-20 split. The initial training model is estimated on the first 80% of the training data, which is updated with an expanding window of one-period. Walk foreword cross-validation is carried out on the remaining 20% of the in-sample set. Each $h$-step ahead forecast is produced using linear model iteration. In the codes below, the phrase \"test\" actually references the “validation” set AND NOT an out-of-sample test set.\n",
    "\n",
    "The first block of code defines a function (MODEL) that takes in five arguments. The univariate series to be forecasted is defined using the data argument. The argument p defines the number of autoregressive (AR) lags (AR_Lags) to set in an ARIMA model. The q defines the number of moving average (MA) lags (MA_Lags) to set in an ARIMA model. The trend argument determines whether the model is estimated with a constant (c) or not (n) via the Const command. The number of multistep ahead forecasts are set using the step_size argument through horizons. The output of MODEL allows the researcher to analyze the number of observations in the training set (train_size), the training set predictions (train_pred), the test set predictions (test_pred), the training root mean squared error value (train_RMSE), the test set root mean squared error value (test_RMSE), the AIC, and BIC values. "
   ]
  },
  {
   "cell_type": "code",
   "execution_count": null,
   "id": "3dc35b0f",
   "metadata": {},
   "outputs": [],
   "source": [
    "# Load Library:\n",
    "from pandas import read_csv\n",
    "import pandas as pd\n",
    "import numpy as np\n",
    "from statsmodels.tsa.statespace.sarimax import SARIMAX\n",
    "from sklearn.metrics import mean_squared_error\n",
    "from matplotlib import pyplot\n",
    "import seaborn as sns\n",
    "import warnings\n",
    "warnings.filterwarnings('ignore')\n",
    "# Function to Fit Model using Walk Foreward Cross-Validation:\n",
    "def MODEL(data, p = 0, q = 0, step_size = 1, trend = 'n'):\n",
    "    # Extracting Data:\n",
    "    index_values = data.index.values\n",
    "    data = data.values\n",
    "    # Inital Training & Test Set Sizes:\n",
    "    train_size = int(len(data)*0.8)\n",
    "    test_size = len(data)-train_size\n",
    "    # Storage for Growth Forecasts:\n",
    "    test_pred = []\n",
    "    for t in range(test_size-step_size+1):\n",
    "        # Walk Foreward Training Set:\n",
    "        train_set = data[:train_size+t]\n",
    "        # Walk Foreward Test Set:\n",
    "        test_set = data[train_size+t:]\n",
    "        # Tracking Convergence:\n",
    "        print('Test Set Walk Foreward: Iteration '+str(t+1))\n",
    "        # Fit Training Model:\n",
    "        model = SARIMAX(train_set, order = (p,0,q), trend = trend, enforce_stationarity = False, enforce_invertibility = False)\n",
    "        model_fit = model.fit(method = 'bfgs', maxiter = 10000)\n",
    "        # Original Training Model: No Data Leakage\n",
    "        if t == 0:\n",
    "            train_pred = model_fit.predict().reshape((train_size,1))\n",
    "            AIC = model_fit.aic\n",
    "            BIC = model_fit.bic\n",
    "        # N-Step Ahead Forecast:\n",
    "        test_yhat = model_fit.forecast(steps = step_size)\n",
    "        test_pred = np.append(test_pred, test_yhat[step_size-1])\n",
    "    # Model Evaluation:\n",
    "    train_RMSE = np.sqrt(mean_squared_error(data[:train_size], train_pred))\n",
    "    test_RMSE = np.sqrt(mean_squared_error(data[train_size+step_size-1:], test_pred))\n",
    "    # Convert to DataFrame:\n",
    "    train_set = pd.DataFrame(data[:train_size], index = index_values[:train_size], columns = ['train_set'])\n",
    "    train_pred = pd.DataFrame(train_pred, index = index_values[:train_size], columns = ['train_pred'])\n",
    "    test_set = pd.DataFrame(data[train_size+step_size-1:], index = index_values[train_size+step_size-1:], columns = ['test_set'])\n",
    "    test_pred = pd.DataFrame(test_pred, index = index_values[train_size+step_size-1:], columns = ['test_pred'])\n",
    "    return train_size, train_pred, test_pred, train_RMSE, test_RMSE, AIC, BIC\n",
    "# Setting Seed:\n",
    "np.random.seed(12345)\n",
    "# Load in Data & Set Index Frequency: DataFrame \n",
    "univariate_data = read_csv('Univariate_Data.csv', header = 0, index_col = 0, parse_dates = True)\n",
    "univariate_data.index = pd.DatetimeIndex(univariate_data.index.values, freq = \"MS\")\n",
    "growth_data = 100.0*np.log(univariate_data[['RHP']]).diff().dropna()\n",
    "AR_Lags = 0\n",
    "MA_Lags = 0\n",
    "Const = 'n'\n",
    "horizons = 1\n",
    "# Evaluate Model: Growth Rate\n",
    "train_size, train_pred, test_pred, train_RMSE, test_RMSE, AIC, BIC = MODEL(growth_data, p = AR_Lags, q = MA_Lags, step_size = horizons, trend = Const)"
   ]
  },
  {
   "cell_type": "markdown",
   "id": "35d865d5",
   "metadata": {},
   "source": [
    "The second block presents and graphs the stored output from the MODEL function. The MODEL above is fit to housing price data in order to forecast real housing price growth rates at the U.S. national level.    "
   ]
  },
  {
   "cell_type": "code",
   "execution_count": null,
   "id": "aea8caf2",
   "metadata": {},
   "outputs": [],
   "source": [
    "# Evaluate Random Walk Model: Growth Rate\n",
    "print('-----------------------------')\n",
    "print('National Housing Price Series')\n",
    "print('-----------------------------')\n",
    "print('Data Type: Growth Rates')\n",
    "print('Model Type: Random Walk')\n",
    "print('Train RMSE: %.3f' % (train_RMSE))\n",
    "print('Test RMSE: %.3f' % (test_RMSE))\n",
    "print('AIC: %.3f' % (AIC))\n",
    "print('BIC: %.3f' % (BIC))\n",
    "# Plot Forecast: Growth Rate\n",
    "sns.set_theme(style = 'whitegrid')\n",
    "pyplot.figure(figsize = (12,6))\n",
    "pyplot.plot(growth_data, label = 'Observed')\n",
    "pyplot.plot(train_pred['train_pred'], label = 'RW: Train')\n",
    "pyplot.plot(test_pred['test_pred'], label = 'RW: Test')\n",
    "pyplot.xlabel('Date')\n",
    "pyplot.ylabel('Growth Rate')\n",
    "pyplot.title('Real Housing Price Series (National)')\n",
    "pyplot.legend()\n",
    "pyplot.show()"
   ]
  },
  {
   "cell_type": "markdown",
   "id": "e3bd53ce",
   "metadata": {},
   "source": [
    "The third block of code is used to analyze the forecast errors for stationarity. The forecast errors are computed, plotted, and distributed. Lastly, the autocorrelation function (ACF) is plotted and the Augmented Dickey-Fuller (ADF) unit root test is carried out.    "
   ]
  },
  {
   "cell_type": "code",
   "execution_count": null,
   "id": "c8ac79fb",
   "metadata": {},
   "outputs": [],
   "source": [
    "# Load Library:\n",
    "from statsmodels.tsa.stattools import adfuller\n",
    "from statsmodels.graphics.tsaplots import plot_acf\n",
    "# Define Residuals:\n",
    "resids = growth_data[:train_size] - train_pred.values\n",
    "# Plot Residuals:\n",
    "sns.set_theme(style = 'whitegrid')\n",
    "pyplot.figure(figsize = (16,4))\n",
    "pyplot.subplot(1,2,1)\n",
    "pyplot.plot(resids)\n",
    "pyplot.xlabel('Date')\n",
    "pyplot.title('Residual Series')\n",
    "pyplot.subplot(1,2,2)\n",
    "pyplot.hist(resids, bins = 20)\n",
    "pyplot.title('Residual Distribution')\n",
    "pyplot.tight_layout()\n",
    "pyplot.show()\n",
    "# Plot Autocorelation Function (ACF):\n",
    "sns.set_theme(style = 'whitegrid')\n",
    "fig, ax = pyplot.subplots(figsize=(8,4))\n",
    "plot_acf(resids, title = 'Residual ACF', lags = 36, ax = ax)\n",
    "pyplot.show()\n",
    "# ADF Test: Non-Stationary v. Stationary\n",
    "ADF_Test = adfuller(resids)\n",
    "print('----------------------')\n",
    "print('  ADF Unit-Root Test  ')\n",
    "print('----------------------')\n",
    "print('Test Statistic: %.3f' % (ADF_Test[0]))\n",
    "print('P-Value: %.3f' % (ADF_Test[1]))\n",
    "print('Critical Values:')\n",
    "for key, value in ADF_Test[4].items():\n",
    "    print('%s: %.3f' % (key, value))"
   ]
  },
  {
   "cell_type": "markdown",
   "id": "0699c5e8",
   "metadata": {},
   "source": [
    "The last block of code saves the training and test predictions in two .csv failes named \"National_Train_Growth_One\" and \"National_Test_Growth_One\" in order to estimate the forecast combinations, produce the final \"top performing\" model plots, and carry out the final comparison tests for predictive accuracy."
   ]
  },
  {
   "cell_type": "code",
   "execution_count": null,
   "id": "b158ed34",
   "metadata": {},
   "outputs": [],
   "source": [
    "# Rename Column:\n",
    "train_pred = train_pred.rename(columns = {'train_pred':'RW'})\n",
    "test_pred = test_pred.rename(columns = {'test_pred':'RW'})\n",
    "# Save Forecast:\n",
    "pd.DataFrame(train_pred).to_csv('National_Train_Growth_One.csv')\n",
    "pd.DataFrame(test_pred).to_csv('National_Test_Growth_One.csv')"
   ]
  }
 ],
 "metadata": {
  "kernelspec": {
   "display_name": "Python 3 (ipykernel)",
   "language": "python",
   "name": "python3"
  },
  "language_info": {
   "codemirror_mode": {
    "name": "ipython",
    "version": 3
   },
   "file_extension": ".py",
   "mimetype": "text/x-python",
   "name": "python",
   "nbconvert_exporter": "python",
   "pygments_lexer": "ipython3",
   "version": "3.8.13"
  }
 },
 "nbformat": 4,
 "nbformat_minor": 5
}
