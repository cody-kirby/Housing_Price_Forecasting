{
 "cells": [
  {
   "cell_type": "markdown",
   "id": "c4a1fc2b",
   "metadata": {},
   "source": [
    "# Diebold & Mariano (1995) Heatmaps"
   ]
  },
  {
   "cell_type": "markdown",
   "id": "f3a27f6a",
   "metadata": {},
   "source": [
    "The DM_Test_Results function takes in three arguments. First, prediction_path is a .csv file path that contains the predicted values from all forecasting algorithms. Second, result_path is a .csv file path that contains the ranked RMSE values for each forecasting algorithm. Lastly, actual_series_name represents the target variable to be forecasted. The output of the DM_Test_Results function produces a heatmap that contains the Diebold & Mariano (1995) p-values for equal predictive accuracy for a proposed model relative to a baseline model. Each model is allowed to act as the baseline model, which means all pairwise comparisons are considered.   "
   ]
  },
  {
   "cell_type": "code",
   "execution_count": null,
   "id": "9a8f6890",
   "metadata": {},
   "outputs": [],
   "source": [
    "# Load Library:\n",
    "from pandas import read_csv\n",
    "import pandas as pd\n",
    "import numpy as np\n",
    "from dieboldmariano import dm_test\n",
    "from matplotlib import pyplot\n",
    "import seaborn as sns\n",
    "# Define Function to Compute & Store Diebold-Mariano Test Results:\n",
    "def DM_Test_Results(prediction_path, result_path, actual_series_name):\n",
    "    # Load In the Prediction Data From Path:\n",
    "    prediction_data = read_csv(prediction_path, header = 0, index_col = 0, parse_dates = True)\n",
    "    prediction_data.index = pd.DatetimeIndex(prediction_data.index.values, freq = \"MS\")\n",
    "    # Load in Model Results Data:\n",
    "    result_data = read_csv(result_path, header = 0, index_col = 0, usecols = ['Model_Name', 'RMSE'])\n",
    "    proposed_models = result_data.index\n",
    "    baseline_models = proposed_models\n",
    "    # Create Storage Bin for DM Test Results:\n",
    "    DM_Results = []\n",
    "    for i in range(len(baseline_models)):\n",
    "        for j in range(len(proposed_models)):\n",
    "            if proposed_models[j] == baseline_models[i]:\n",
    "                DM_Results.append(np.nan)\n",
    "            else:\n",
    "                test_results = dm_test(prediction_data[actual_series_name], prediction_data[proposed_models[j]], prediction_data[baseline_models[i]], harvey_correction = False, one_sided = True)\n",
    "                DM_Results.append(round(test_results[1],3))\n",
    "    DM_Results = np.asarray(DM_Results).reshape((len(baseline_models),len(proposed_models)))\n",
    "    DM_Results = pd.DataFrame(DM_Results, index = baseline_models, columns = proposed_models)\n",
    "    # Define the Heatmap:\n",
    "    pyplot.figure(figsize = (16,12))\n",
    "    sns.heatmap(DM_Results, mask = DM_Results.isnull(), linewidths=.5, cbar_kws={'orientation':'vertical', 'pad': 0.005})\n",
    "    pyplot.xticks(fontsize = 12)\n",
    "    pyplot.yticks(fontsize = 12)\n",
    "    pyplot.xlabel('Proposed Model', fontsize = 14)\n",
    "    pyplot.ylabel('Baseline Model', fontsize = 14)\n",
    "    pyplot.title('Pairwise Diebold & Mariano (1995) Forecast Comparison Test', fontsize = 18)\n",
    "    pyplot.tight_layout()\n",
    "    pyplot.show()\n",
    "# Set Prediction & Result Paths:\n",
    "Prediction_Path = 'National_Test_Growth_One.csv'\n",
    "Result_Path = 'National_Test_Growth_One_RMSE.csv'\n",
    "# Set Target Series:\n",
    "Actual_Series = 'RHP'\n",
    "# Compute, Store, & Return Diebold-Mariano Test Heatmap:\n",
    "DM_Test_Results(Prediction_Path, Result_Path, Actual_Series)"
   ]
  }
 ],
 "metadata": {
  "kernelspec": {
   "display_name": "Python 3 (ipykernel)",
   "language": "python",
   "name": "python3"
  },
  "language_info": {
   "codemirror_mode": {
    "name": "ipython",
    "version": 3
   },
   "file_extension": ".py",
   "mimetype": "text/x-python",
   "name": "python",
   "nbconvert_exporter": "python",
   "pygments_lexer": "ipython3",
   "version": "3.8.13"
  }
 },
 "nbformat": 4,
 "nbformat_minor": 5
}
